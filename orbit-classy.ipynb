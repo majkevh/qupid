{
 "cells": [
  {
   "cell_type": "markdown",
   "metadata": {},
   "source": [
    "## Outline\n",
    "In this notebook, we will explore the process of generating and classifying orbits using **QuPID** vectorization and a Vanilla Random Forest Classifier. The main steps include:\n",
    "\n",
    "1. *Data Generation*: Creating synthetic orbit data.\n",
    "2. *Data Processing*: Preparing the data by computing persistent diagrams for $H_0$ and $H_1$ for each sample.\n",
    "3. *Diagrams Embedding*: Each diagram from the dataset is embedded in a vector space using QuPID.\n",
    "3. *Model Training and Evaluation*: Building and training a RandomForest classifier and assess the model's performance.\n"
   ]
  },
  {
   "cell_type": "code",
   "execution_count": 1,
   "metadata": {},
   "outputs": [],
   "source": [
    "import numpy as np\n",
    "import qupid.utils as spu\n",
    "from qupid.qupid import QuPID\n",
    "import warnings\n",
    "warnings.filterwarnings('ignore')\n",
    "dataset = \"ORBIT5K\""
   ]
  },
  {
   "cell_type": "markdown",
   "metadata": {},
   "source": [
    "### Data Generation\n",
    "In this section, we generate synthetic data representing different orbits. This involves creating a series of points that simulate the path of an object in an orbital motion, based on specified parameters.\n"
   ]
  },
  {
   "cell_type": "code",
   "execution_count": 2,
   "metadata": {},
   "outputs": [
    {
     "name": "stdout",
     "output_type": "stream",
     "text": [
      "Generating 1000 dynamical particles and PDs for r = 2.5...\n",
      "Generating 1000 dynamical particles and PDs for r = 3.5...\n",
      "Generating 1000 dynamical particles and PDs for r = 4.0...\n",
      "Generating 1000 dynamical particles and PDs for r = 4.1...\n",
      "Generating 1000 dynamical particles and PDs for r = 4.3...\n"
     ]
    }
   ],
   "source": [
    "spu.compute_persistence(dataset)"
   ]
  },
  {
   "cell_type": "markdown",
   "metadata": {},
   "source": [
    "### Data Visualization\n",
    "In the plot below, a representative sample from each class is displayed to illustrate the diversity and characteristics of the different categories in our dataset.\n"
   ]
  },
  {
   "cell_type": "markdown",
   "metadata": {},
   "source": [
    "![Optional Image Title](./data/ORBIT5K/orbits.png)\n"
   ]
  },
  {
   "cell_type": "markdown",
   "metadata": {},
   "source": [
    "### Data Processing\n",
    "Here, we prepare the generated data for analysis by computing persistent diagrams for $H_0$ and $H_1$ homology groups for each sample. \n"
   ]
  },
  {
   "cell_type": "code",
   "execution_count": 2,
   "metadata": {},
   "outputs": [
    {
     "name": "stdout",
     "output_type": "stream",
     "text": [
      "Dataset: ORBIT5K\n",
      "Number of observations: 5000\n",
      "Number of classes: 5\n"
     ]
    }
   ],
   "source": [
    "diagrams_dict, labels, n_data = spu.get_data(dataset)"
   ]
  },
  {
   "cell_type": "markdown",
   "metadata": {},
   "source": [
    "### Diagrams Embedding\n",
    "In this step, each persistence diagram from the dataset is embedded in a vector space using the **QuPID** vectorization method. This transformation facilitates the application of machine learning algorithms by representing the complex topological data in a more accessible form.\n"
   ]
  },
  {
   "cell_type": "code",
   "execution_count": 3,
   "metadata": {},
   "outputs": [],
   "source": [
    "samplesH0, samplesH1 = spu.process_diagrams(diagrams_dict)\n",
    "\n",
    "max_point0, max_point1 = spu.max_measures({\"H0\": samplesH0}), spu.max_measures({\"H1\": samplesH1})\n",
    "params = {\"function\": \"wvt\", \"wave\": \"coif1\", \"global_min\": (0, 0)}\n",
    "modelH0 = QuPID(**params, resolution=(1, 32), global_max=max_point0, alpha=(0, 1e3))\n",
    "modelH1 = QuPID(**params, resolution=(32, 32), global_max=max_point1, alpha=(5e2, 1e3))\n",
    "\n",
    "data = []\n",
    "for i in range(n_data):\n",
    "    modelH0.fit([samplesH0[i]])\n",
    "    modelH1.fit([samplesH1[i]])\n",
    "    data.append(np.concatenate((modelH0.transform(samplesH0[i]), modelH1.transform(samplesH1[i]))))"
   ]
  },
  {
   "cell_type": "markdown",
   "metadata": {},
   "source": [
    "### Model Training and Evaluation \n",
    "In this section, we focus on both building and evaluating our classifier. Initially, we train the classifier using the processed data. Subsequently, we assess its performance by evaluating its accuracy and reliability in classifying different types of orbits."
   ]
  },
  {
   "cell_type": "code",
   "execution_count": 17,
   "metadata": {},
   "outputs": [
    {
     "name": "stdout",
     "output_type": "stream",
     "text": [
      "Run 1: Accuracy = 0.8753333333333333\n",
      "Run 2: Accuracy = 0.884\n",
      "Run 3: Accuracy = 0.8766666666666667\n",
      "Run 4: Accuracy = 0.8746666666666667\n",
      "Run 5: Accuracy = 0.886\n",
      "Run 6: Accuracy = 0.8886666666666667\n",
      "Run 7: Accuracy = 0.876\n",
      "Run 8: Accuracy = 0.876\n",
      "Run 9: Accuracy = 0.882\n",
      "Run 10: Accuracy = 0.8866666666666667\n",
      "Overall Mean Accuracy across 10 runs: 0.8805999999999999\n",
      "Standard Deviation across 10 runs: 0.0051506202431249965\n"
     ]
    }
   ],
   "source": [
    "mean, std = spu.evaluate_classifier_orbits(data, labels)"
   ]
  }
 ],
 "metadata": {
  "kernelspec": {
   "display_name": "Python 3",
   "language": "python",
   "name": "python3"
  },
  "language_info": {
   "codemirror_mode": {
    "name": "ipython",
    "version": 3
   },
   "file_extension": ".py",
   "mimetype": "text/x-python",
   "name": "python",
   "nbconvert_exporter": "python",
   "pygments_lexer": "ipython3",
   "version": "3.9.4"
  },
  "orig_nbformat": 4,
  "vscode": {
   "interpreter": {
    "hash": "aee8b7b246df8f9039afb4144a1f6fd8d2ca17a180786b69acc140d282b71a49"
   }
  }
 },
 "nbformat": 4,
 "nbformat_minor": 2
}
