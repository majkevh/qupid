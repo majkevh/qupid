{
 "cells": [
  {
   "cell_type": "code",
   "execution_count": 6,
   "metadata": {},
   "outputs": [],
   "source": [
    "import numpy as np\n",
    "import qupid.utils as spu\n",
    "from qupid.qupid import QuPID\n",
    "import warnings\n",
    "import time\n",
    "warnings.filterwarnings('ignore')\n",
    "dataset = \"ORBIT5K\""
   ]
  },
  {
   "cell_type": "markdown",
   "metadata": {},
   "source": [
    "### Data Generation\n",
    "In this section, we generate synthetic data representing different orbits. This involves creating a series of points that simulate the path of an object in an orbital motion, based on specified parameters.\n"
   ]
  },
  {
   "cell_type": "code",
   "execution_count": null,
   "metadata": {},
   "outputs": [],
   "source": [
    "spu.compute_persistence(dataset)"
   ]
  },
  {
   "cell_type": "markdown",
   "metadata": {},
   "source": [
    "### Data Processing\n",
    "Here, we prepare the generated data for analysis by computing persistent diagrams for $H_0$ and $H_1$ homology groups for each sample. \n"
   ]
  },
  {
   "cell_type": "code",
   "execution_count": null,
   "metadata": {},
   "outputs": [],
   "source": [
    "diagrams_dict, labels, n_data = spu.get_data(dataset)"
   ]
  },
  {
   "cell_type": "markdown",
   "metadata": {},
   "source": [
    "### Vectorization timings\n"
   ]
  },
  {
   "cell_type": "markdown",
   "metadata": {},
   "source": [
    "QUPID"
   ]
  },
  {
   "cell_type": "code",
   "execution_count": null,
   "metadata": {},
   "outputs": [],
   "source": [
    "parameter_configs = [\n",
    "    {\"function\": \"id\", \"wave\": \" \"},\n",
    "    {\"function\": \"fft\", \"wave\": \" \"},\n",
    "    {\"function\": \"wvt\", \"wave\": \"coif2\"},\n",
    "    {\"function\": \"wvt\", \"wave\": \"db2\"}\n",
    "]\n",
    "\n",
    "# Loop through each parameter configuration\n",
    "for params in parameter_configs:\n",
    "    samplesH0, samplesH1 = spu.process_diagrams(diagrams_dict)\n",
    "\n",
    "    max_point0, max_point1 = spu.max_measures({\"H0\": samplesH0}), spu.max_measures({\"H1\": samplesH1})\n",
    "\n",
    "    modelH0 = QuPID(**params, resolution=(1, 32), global_max=max_point0, global_min = (0, 0), alpha=(0, 1e3))\n",
    "    modelH1 = QuPID(**params, resolution=(32, 32), global_max=max_point1, global_min = (0, 0), alpha=(1e3, 1e3))\n",
    "\n",
    "    start_time = time.time()\n",
    "    data = []\n",
    "    for i in range(n_data):\n",
    "        modelH0.fit([samplesH0[i]])\n",
    "        modelH1.fit([samplesH1[i]])\n",
    "        data.append(np.concatenate((modelH0.transform(samplesH0[i]), modelH1.transform(samplesH1[i]))))\n",
    "    end_time = time.time()\n",
    "    \n",
    "    elapsed_time = end_time - start_time\n",
    "    print(f\"Elapsed time for {params}': {elapsed_time:.4f} seconds\")"
   ]
  },
  {
   "cell_type": "markdown",
   "metadata": {},
   "source": [
    "PI"
   ]
  },
  {
   "cell_type": "code",
   "execution_count": null,
   "metadata": {},
   "outputs": [],
   "source": [
    "from gudhi.representations import PersistenceImage\n",
    "\n",
    "samplesH0, samplesH1 = spu.process_diagrams(diagrams_dict)\n",
    "pi= PersistenceImage(resolution = (32, 32))\n",
    "\n",
    "data = []\n",
    "start_time = time.time()\n",
    "for i in range(n_data):\n",
    "    vec = pi.fit_transform([samplesH0[i], samplesH1[i]])\n",
    "    data.append(vec.flatten())\n",
    "end_time = time.time()\n",
    "elapsed_time = end_time - start_time"
   ]
  },
  {
   "cell_type": "markdown",
   "metadata": {},
   "source": [
    "PF-K "
   ]
  },
  {
   "cell_type": "code",
   "execution_count": null,
   "metadata": {},
   "outputs": [],
   "source": [
    "from gudhi.representations import PersistenceFisherKernel\n",
    "\n",
    "samplesH0, samplesH1 = spu.process_diagrams(diagrams_dict)\n",
    "pfk_model = PersistenceFisherKernel()\n",
    "\n",
    "data = []\n",
    "start_time = time.time()\n",
    "for i in range(n_data):\n",
    "    vec = pfk_model.fit_transform([samplesH0[i], samplesH1[i]])\n",
    "    data.append(vec.flatten())\n",
    "end_time = time.time()\n",
    "elapsed_time = end_time - start_time\n"
   ]
  }
 ],
 "metadata": {
  "kernelspec": {
   "display_name": "Python 3",
   "language": "python",
   "name": "python3"
  },
  "language_info": {
   "codemirror_mode": {
    "name": "ipython",
    "version": 3
   },
   "file_extension": ".py",
   "mimetype": "text/x-python",
   "name": "python",
   "nbconvert_exporter": "python",
   "pygments_lexer": "ipython3",
   "version": "3.9.4"
  },
  "orig_nbformat": 4,
  "vscode": {
   "interpreter": {
    "hash": "aee8b7b246df8f9039afb4144a1f6fd8d2ca17a180786b69acc140d282b71a49"
   }
  }
 },
 "nbformat": 4,
 "nbformat_minor": 2
}
